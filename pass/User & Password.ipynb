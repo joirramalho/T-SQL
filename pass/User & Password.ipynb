{
    "metadata": {
        "kernelspec": {
            "name": "SQL",
            "display_name": "SQL",
            "language": "sql"
        },
        "language_info": {
            "name": "sql",
            "version": ""
        }
    },
    "nbformat_minor": 2,
    "nbformat": 4,
    "cells": [
        {
            "cell_type": "code",
            "execution_count": null,
            "source": [
                "-- SCHEMA::[db_owner]   --  sp_droprolemember\n",
                "\n",
                "Use CRM_245121c;\n",
                "\n",
                "SELECT DB_NAME();\n",
                "\n",
                "-- ALTER AUTHORIZATION ON SCHEMA::[db_owner] TO [db_owner];\n",
                "-- ALTER AUTHORIZATION ON SCHEMA::[db_datareader] TO [db_datareader];\n",
                "-- ALTER AUTHORIZATION ON SCHEMA::[db_accessadmin] TO [db_accessadmin];\n",
                "\n",
                "\n",
                "-- sp_droprolemember DATABASE\n",
                "    -- exec sp_droprolemember 'db_owner', 'active.ramonvieira';\n",
                "    -- exec sp_droprolemember 'db_datareader', 'active.pollyana';\n",
                "    -- exec sp_droprolemember 'db_datawriter', 'active.pollyana';\n",
                "    \n",
                "-- sp_dropsrvrolemember SERVER ROLE\n",
                "    -- EXEC sp_dropsrvrolemember 'active.wantuilson', 'sysadmin'\n",
                "\n",
                "\n",
                "    -- REVOKE EXECUTE TO [active.pollyana];\n"
            ],
            "outputs": [],
            "metadata": {
                "azdata_cell_guid": "914fdda1-ec75-42e0-ab30-227ea0a3bb9e",
                "tags": []
            }
        },
        {
            "cell_type": "code",
            "execution_count": null,
            "source": [
                "-- GRANT EXECUTE from PROCEDURE to ROLE/User\n",
                "\n",
                "use [dbLogRestore]\n",
                "GO\n",
                "-- GRANT EXECUTE ON [dbo].sp_foreachdb TO [PUBLIC]\n",
                "-- GO\n",
                "\n",
                "GRANT EXECUTE ON [dbo].sp_JobEspacoLivreInMB TO [roleOperacaoRestore]\n",
                "GO\n",
                "\n",
                "\n",
                "-- GRANT UPDATE ON [dbo].Documento_ContasDeGestao TO role_SiaiAnalise_Escrita;"
            ],
            "outputs": [],
            "metadata": {
                "azdata_cell_guid": "ccf1c1ab-d25c-4fd8-bcc7-8fbe073f51bc",
                "tags": []
            }
        }
    ]
}