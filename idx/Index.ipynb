{
    "metadata": {
        "kernelspec": {
            "name": "SQL",
            "display_name": "SQL",
            "language": "sql"
        },
        "language_info": {
            "name": "sql",
            "version": ""
        }
    },
    "nbformat_minor": 2,
    "nbformat": 4,
    "cells": [
        {
            "cell_type": "markdown",
            "source": [
                "# Gathering SQL Server indexes statistics and usage information\n",
                "\n",
                "https://www.sqlshack.com/gathering-sql-server-indexes-statistics-and-usage-information/"
            ],
            "metadata": {
                "azdata_cell_guid": "5480e405-aabe-4769-bb01-acb05d1a06ed"
            }
        },
        {
            "cell_type": "code",
            "source": [
                "-- Identificando a fragmentação dos índices (Dirceu Resende) UNIQUE DATABASE\n",
                "SELECT  DB_NAME()\n",
                "\n",
                "SELECT  OBJECT_NAME(B.object_id) AS TableName, B.name AS IndexName, A.index_type_desc AS IndexType, A.avg_fragmentation_in_percent\n",
                "FROM    sys.dm_db_index_physical_stats(DB_ID(), NULL, NULL, NULL, 'LIMITED') A\n",
                "INNER   JOIN sys.indexes B WITH(NOLOCK) ON B.object_id = A.object_id AND B.index_id = A.index_id\n",
                "WHERE   A.avg_fragmentation_in_percent > 30\n",
                "    AND OBJECT_NAME(B.object_id) NOT LIKE '[_]%'\n",
                "    AND A.index_type_desc != 'HEAP'\n",
                "ORDER BY    A.avg_fragmentation_in_percent DESC"
            ],
            "metadata": {
                "azdata_cell_guid": "41919879-74fd-4b67-b2cf-1a70dbd5a0a6",
                "tags": []
            },
            "outputs": [],
            "execution_count": null
        },
        {
            "cell_type": "code",
            "source": [
                "-- Rebuid OR Reorganize Index\n",
                "use dbCrmActivesoft\n",
                "\n",
                "SELECT DB_NAME()\n",
                "\n",
                "DECLARE @Database NVARCHAR(255)   \n",
                "DECLARE @Table NVARCHAR(255)\n",
                "DECLARE @Index NVARCHAR(255)\n",
                "DECLARE @Fragmentation FLOAT\n",
                "DECLARE @cmd NVARCHAR(1000)  \n",
                "\n",
                "\n",
                "DECLARE TableCursor CURSOR READ_ONLY FOR \n",
                "    SELECT DB_NAME(), OBJECT_NAME(ind.OBJECT_ID), ind.name, indexstats.avg_fragmentation_in_percent\n",
                "    FROM sys.dm_db_index_physical_stats(DB_ID(), NULL, NULL, NULL, NULL) indexstats \n",
                "    INNER JOIN sys.indexes ind ON ind.object_id = indexstats.object_id  AND ind.index_id = indexstats.index_id \n",
                "    WHERE indexstats.avg_fragmentation_in_percent > 5    AND ind.Name is not null \n",
                "    ORDER BY indexstats.avg_fragmentation_in_percent DESC\n",
                "    \n",
                "    OPEN TableCursor   \n",
                "\n",
                "   FETCH NEXT FROM TableCursor INTO @Database, @Table, @Index, @Fragmentation\n",
                "   WHILE @@FETCH_STATUS = 0   \n",
                "   BEGIN\n",
                "      BEGIN TRY\n",
                "        IF @Fragmentation > 30\n",
                "            SET @cmd = 'ALTER INDEX [' + @Index + '] ON ' + @Database + '.dbo.' +@Table + ' REBUILD' \n",
                "        ELSE\n",
                "            SET @cmd = 'ALTER INDEX [' + @Index + '] ON ' + @Database + '.dbo.' +@Table + ' REORGANIZE' \n",
                "\n",
                "          PRINT @cmd -- uncomment if you want to see commands\n",
                "        --  EXEC (@cmd) \n",
                "      END TRY\n",
                "      BEGIN CATCH\n",
                "         PRINT '---'\n",
                "         PRINT @cmd\n",
                "         PRINT ERROR_MESSAGE() \n",
                "         PRINT '---'\n",
                "      END CATCH\n",
                "\n",
                "      FETCH NEXT FROM TableCursor INTO @Database, @Table, @Index, @Fragmentation\n",
                "   END   \n",
                "\n",
                "   CLOSE TableCursor   \n",
                "   DEALLOCATE TableCursor"
            ],
            "metadata": {
                "azdata_cell_guid": "eeff9a29-2ac9-4b1f-aa78-44cc50d97dae",
                "tags": []
            },
            "outputs": [],
            "execution_count": null
        },
        {
            "cell_type": "markdown",
            "source": [
                "## Missing Indexes in SQL Server\n",
                "\n",
                "https://dbtut.com/index.php/2019/04/21/how-to-find-missing-indexes-in-sql-server/"
            ],
            "metadata": {
                "azdata_cell_guid": "f31e6c12-9367-478d-98fb-e02f7f13ba0f"
            }
        },
        {
            "cell_type": "code",
            "source": [
                "-- Sugerido por Joao\n",
                "\n",
                "CREATE INDEX [IX_TbCaixaLancamento_CdCaixaTipoLancamento_CdTipoRecebimento] ON [dbo].[TbCaixaLancamento] ([CdCaixaTipoLancamento],[CdTipoRecebimento]) INCLUDE ([IdCaixaMovimentacao],[Valor])\n",
                "\n",
                "    -- Igual ao Sugerido pelas Estatísticas do Banco\n",
                "    CREATE INDEX [IX_TbCaixaMovimentacao_IdCaixaAbertura] ON [dbo].[TbCaixaMovimentacao] ([IdCaixaAbertura])\n",
                "\n",
                "\n",
                "\n",
                "-- Sugerido pelas Estatísticas do Banco\n",
                "\n",
                "CREATE INDEX [IX_TbCaixaLancamento_IdCaixaMovimentacao_CdTipoRecebimento] ON [dbSigaGGE].[dbo].[TbCaixaLancamento] ([IdCaixaMovimentacao], [CdTipoRecebimento]) INCLUDE ([Valor])\n",
                "\n",
                "    -- Igual ao solicitado por joão\n",
                "    CREATE INDEX [IX_TbCaixaMovimentacao_IdCaixaAbertura] ON [dbSigaGGE].[dbo].[TbCaixaMovimentacao] ([IdCaixaAbertura])"
            ],
            "metadata": {
                "azdata_cell_guid": "8f8f70e8-062a-4a35-87bc-c049a9827864",
                "tags": []
            },
            "outputs": [],
            "execution_count": null
        },
        {
            "cell_type": "markdown",
            "source": [
                "## Raio-X - Filtered index\n",
                "\n",
                "SQL Server Filtered Indexes What They Are, How to Use and Performance Advantages\n",
                "    https://www.mssqltips.com/sqlservertip/1785/sql-server-filtered-indexes-what-they-are-how-to-use-and-performance-advantages/\n",
                "\n",
                "What You Can (and Can’t) Do With Filtered Indexes\n",
                "    https://www.brentozar.com/archive/2013/11/what-you-can-and-cant-do-with-filtered-indexes/\n",
                "\n",
                "Filtered Indexes and Dynamic SQL\n",
                "    https://www.brentozar.com/archive/2013/11/filtered-indexes-and-dynamic-sql/"
            ],
            "metadata": {
                "azdata_cell_guid": "8531add0-82e4-4a58-8f0a-7a3b8d413a16"
            }
        },
        {
            "cell_type": "markdown",
            "source": [
                "## Dynamic Management Views (DMVs) To List Foreign Keys With No Index"
            ],
            "metadata": {
                "azdata_cell_guid": "65891b03-2f3b-4d74-b808-edfdb25459f1"
            }
        },
        {
            "cell_type": "markdown",
            "source": [
                "## Should every SQL Server foreign key have a matching index?\n",
                "    https://stackoverflow.com/questions/3650690/should-every-sql-server-foreign-key-have-a-matching-index"
            ],
            "metadata": {
                "azdata_cell_guid": "52951911-de6f-44a1-8e7a-9d9b5e51ad63"
            }
        },
        {
            "cell_type": "markdown",
            "source": [
                "### SQL Server Best Practices: Using Filegroups to Implement Cold and Hot Data Isolation Backup Solution\n",
                "\n",
                "    https://www.alibabacloud.com/blog/sql-server-best-practices-using-filegroups-to-implement-cold-and-hot-data-isolation-backup-solution_594480"
            ],
            "metadata": {
                "azdata_cell_guid": "38f3d3b0-eddc-4fed-9f0a-760bac554242"
            }
        }
    ]
}