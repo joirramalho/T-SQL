{
    "metadata": {
        "kernelspec": {
            "name": "SQL",
            "display_name": "SQL",
            "language": "sql"
        },
        "language_info": {
            "name": "sql",
            "version": ""
        }
    },
    "nbformat_minor": 2,
    "nbformat": 4,
    "cells": [
        {
            "cell_type": "code",
            "source": [
                "USE [CRM_203801]"
            ],
            "metadata": {
                "azdata_cell_guid": "e4948c48-b372-4d97-b0ab-2585ac14abd2"
            },
            "outputs": [
                {
                    "output_type": "display_data",
                    "data": {
                        "text/html": "Commands completed successfully."
                    },
                    "metadata": {}
                },
                {
                    "output_type": "display_data",
                    "data": {
                        "text/html": "Total execution time: 00:00:00.170"
                    },
                    "metadata": {}
                }
            ],
            "execution_count": 1
        },
        {
            "cell_type": "code",
            "source": [
                "SET ANSI_NULLS OFF\n",
                "GO\n",
                "\n",
                "SET QUOTED_IDENTIFIER ON\n",
                "GO\n",
                "\n",
                "CREATE TABLE [dbo].[TbDiario_Auditoria](\n",
                "\t[IdDiarioAuditoria] [bigint] IDENTITY(1,1) NOT NULL,\n",
                "\t[DataHora] [datetime] NOT NULL,\n",
                "\t[Operacao] [char](1) NOT NULL,\n",
                "\t[IdUsuario] [int] NULL,\n",
                "\n",
                "\t[IdDiario] [int] NULL,\n",
                "\t[IdTurma] [int] NULL,\n",
                "\t[IdDisciplina] [int] NULL,\n",
                "\t[Descricao] [varchar](50) NULL,\n",
                "\t[IdFaseNota] [int] NULL,\n",
                "\t[TipoConfirmacao] [char](1) NULL,\n",
                "\t[QtdeMaximaAulas] [int] NULL,\n",
                "\t[DataLimiteDigitacao] [datetime] NULL,\n",
                "\t[QtdeMinimaAulas] [int] NULL,\n",
                "\t[StRegistroAulaPeriodoFaseNota] [bit] NULL,\n",
                "\t[DataBloqueioDigitacaoAula] [datetime] NULL,\n",
                " CONSTRAINT [PK_TbDiario_Auditoria] PRIMARY KEY CLUSTERED \n",
                "(\n",
                "\t[IdDiarioAuditoria] ASC\n",
                ")WITH (PAD_INDEX = OFF, STATISTICS_NORECOMPUTE = OFF, IGNORE_DUP_KEY = OFF, ALLOW_ROW_LOCKS = ON, ALLOW_PAGE_LOCKS = ON) ON [PRIMARY]\n",
                ") ON [PRIMARY]\n",
                "GO"
            ],
            "metadata": {
                "azdata_cell_guid": "f1ecd46c-a500-4d86-bfac-359736ec3276"
            },
            "outputs": [
                {
                    "output_type": "display_data",
                    "data": {
                        "text/html": "Commands completed successfully."
                    },
                    "metadata": {}
                },
                {
                    "output_type": "display_data",
                    "data": {
                        "text/html": "Commands completed successfully."
                    },
                    "metadata": {}
                },
                {
                    "output_type": "display_data",
                    "data": {
                        "text/html": "Commands completed successfully."
                    },
                    "metadata": {}
                },
                {
                    "output_type": "display_data",
                    "data": {
                        "text/html": "Total execution time: 00:00:00.530"
                    },
                    "metadata": {}
                }
            ],
            "execution_count": 2
        },
        {
            "cell_type": "code",
            "source": [
                "SET ANSI_NULLS ON\n",
                "GO\n",
                "SET QUOTED_IDENTIFIER OFF\n",
                "GO\n",
                "\n",
                "--\n",
                "-- Activesoft Consultoria \n",
                "-- TRIGGER criada pelo Activesoft Service Pack em 21/01/2020 durante atualização para versão 1.065.xxx.\n",
                "--\n",
                "\n",
                "CREATE TRIGGER [dbo].[TgDiario_Auditoria] ON [dbo].[TbDiario]\n",
                "--ALTER TRIGGER [dbo].[TgDiario_Auditoria] ON [dbo].[TbDiario]\n",
                "FOR INSERT, UPDATE, DELETE\n",
                "AS\n",
                "BEGIN\n",
                "\tSET NOCOUNT ON\n",
                "\n",
                "\tIF ( SELECT COUNT(*) FROM INFORMATION_SCHEMA.COLUMNS c WHERE DATA_TYPE NOT IN ( 'text', 'image' ) AND TABLE_NAME = 'TbDiario' AND LEFT(COLUMN_NAME,1) <> '_' ) <> 11\n",
                "\tBEGIN\n",
                "\t\tROLLBACK TRANSACTION \n",
                "\t\tRAISERROR ('Dados não podem ser alterados (trigger de auditoria TgDiario_Auditoria inválida)', 16, 1) \n",
                "\t\tRETURN \n",
                "\tEND \n",
                "\n",
                "\t\n",
                "\tDECLARE @IdUsuario INTEGER\n",
                "\tIF APP_NAME() = 'SIGAWEB'\n",
                "\t\tSELECT\t@IdUsuario = IdUsuario\n",
                "\t\tFROM\tdbo.FnCriarTabelaTemporaria(HOST_NAME())\t\t\n",
                "\tELSE IF OBJECT_ID( 'tempdb..#TempTable' ) IS NOT NULL\n",
                "\t\tSELECT @IdUsuario = IdUsuario FROM #TempTable\n",
                "\n",
                "\tIF ( @IdUsuario IS NULL ) \n",
                "\tBEGIN\n",
                "\t\tROLLBACK TRANSACTION \n",
                "\t\tRAISERROR ('A auditoria não está funcionando corretamente. Reinicie o sistema. (TgDiario_Auditoria)', 16, 1)\n",
                "\t\tRETURN \n",
                "\tEND\n",
                "\n",
                "\t\n",
                "\tDECLARE @TipoOperacao CHAR(1) = 'I' -- Insert by default.\n",
                "\tIF EXISTS(SELECT * FROM DELETED)\n",
                "\tBEGIN\n",
                "\tSET @TipoOperacao = \n",
                "\t    CASE\n",
                "\t\tWHEN EXISTS(SELECT * FROM INSERTED) THEN 'U' ELSE 'D' \n",
                "\t    END\n",
                "\tEND\n",
                "\tELSE \n",
                "\tIF NOT EXISTS(SELECT * FROM INSERTED) RETURN; -- Nem updated nem inserted. Pode ter sido um \"failed delete\".\n",
                "\n",
                "\n",
                "\tIF ( @TipoOperacao = 'D' )\n",
                "\t\tINSERT\tTbDiario_Auditoria (\tDataHora,\tOperacao,\t\tIdUsuario,\tIdDiario,\tIdTurma,\tIdDisciplina,\tDescricao,\tIdFaseNota,\tTipoConfirmacao,\tQtdeMaximaAulas, DataLimiteDigitacao, QtdeMinimaAulas, StRegistroAulaPeriodoFaseNota, DataBloqueioDigitacaoAula )\n",
                "\t\tSELECT\t\t\t\t\t\t\tGETDATE(),\t@TipoOperacao,\t@IdUsuario, IdDiario,\tIdTurma,\tIdDisciplina,\tDescricao,\tIdFaseNota,\tTipoConfirmacao,\tQtdeMaximaAulas, DataLimiteDigitacao, QtdeMinimaAulas, StRegistroAulaPeriodoFaseNota, DataBloqueioDigitacaoAula\t\n",
                "\t\tFROM\tdeleted\n",
                "\tELSE\n",
                "\t\tINSERT\tTbDiario_Auditoria (\tDataHora,\tOperacao,\t\tIdUsuario,\tIdDiario,\tIdTurma,\tIdDisciplina,\tDescricao,\tIdFaseNota,\tTipoConfirmacao,\tQtdeMaximaAulas, DataLimiteDigitacao, QtdeMinimaAulas, StRegistroAulaPeriodoFaseNota, DataBloqueioDigitacaoAula )\n",
                "\t\tSELECT\t\t\t\t\t\t\tGETDATE(),\t@TipoOperacao,\t@IdUsuario, IdDiario,\tIdTurma,\tIdDisciplina,\tDescricao,\tIdFaseNota,\tTipoConfirmacao,\tQtdeMaximaAulas, DataLimiteDigitacao, QtdeMinimaAulas, StRegistroAulaPeriodoFaseNota, DataBloqueioDigitacaoAula\t\n",
                "\t\tFROM\tinserted\n",
                "END\n",
                ""
            ],
            "metadata": {
                "azdata_cell_guid": "b7ae96d0-c6b6-41f1-87be-1c50cc8112c3"
            },
            "outputs": [
                {
                    "output_type": "display_data",
                    "data": {
                        "text/html": "Commands completed successfully."
                    },
                    "metadata": {}
                },
                {
                    "output_type": "display_data",
                    "data": {
                        "text/html": "Commands completed successfully."
                    },
                    "metadata": {}
                },
                {
                    "output_type": "display_data",
                    "data": {
                        "text/html": "Commands completed successfully."
                    },
                    "metadata": {}
                },
                {
                    "output_type": "display_data",
                    "data": {
                        "text/html": "Total execution time: 00:00:01.697"
                    },
                    "metadata": {}
                }
            ],
            "execution_count": 4
        },
        {
            "cell_type": "code",
            "source": [
                "DROP TRIGGER [dbo].[TgAudit_TbDiarioD]\n",
                "\n",
                "DROP TRIGGER [dbo].[TgAudit_TbDiarioI]\n",
                "\n",
                "DROP TRIGGER [dbo].[TgAudit_TbDiarioU]"
            ],
            "metadata": {
                "azdata_cell_guid": "b7a1c350-513a-4cee-9fd6-6ed2496f56a8"
            },
            "outputs": [
                {
                    "output_type": "display_data",
                    "data": {
                        "text/html": "Commands completed successfully."
                    },
                    "metadata": {}
                },
                {
                    "output_type": "display_data",
                    "data": {
                        "text/html": "Total execution time: 00:00:00.244"
                    },
                    "metadata": {}
                }
            ],
            "execution_count": 6
        }
    ]
}