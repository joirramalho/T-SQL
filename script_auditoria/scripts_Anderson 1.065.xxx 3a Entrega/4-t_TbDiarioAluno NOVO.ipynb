{
    "metadata": {
        "kernelspec": {
            "name": "SQL",
            "display_name": "SQL",
            "language": "sql"
        },
        "language_info": {
            "name": "sql",
            "version": ""
        }
    },
    "nbformat_minor": 2,
    "nbformat": 4,
    "cells": [
        {
            "cell_type": "code",
            "source": [
                "USE CRM_203801"
            ],
            "metadata": {
                "azdata_cell_guid": "9f168c8b-6362-4ed8-9c90-7b823d496c36"
            },
            "outputs": [
                {
                    "output_type": "display_data",
                    "data": {
                        "text/html": "Commands completed successfully."
                    },
                    "metadata": {}
                },
                {
                    "output_type": "display_data",
                    "data": {
                        "text/html": "Total execution time: 00:00:00.189"
                    },
                    "metadata": {}
                }
            ],
            "execution_count": 1
        },
        {
            "cell_type": "code",
            "source": [
                "SET ANSI_NULLS OFF\n",
                "GO\n",
                "\n",
                "SET QUOTED_IDENTIFIER ON\n",
                "GO\n",
                "\n",
                "CREATE TABLE [dbo].[TbDiarioAluno_Auditoria](\n",
                "\t[IdDiarioAlunoAuditoria] [bigint] IDENTITY(1,1) NOT NULL,\n",
                "\t[DataHora] [datetime] NOT NULL,\n",
                "\t[Operacao] [char](1) NOT NULL,\n",
                "\t[IdUsuario] [int] NULL,\n",
                "\n",
                "\t[IdDiarioAluno] [int]  NULL,\n",
                "\t[IdDiario] [int]  NULL,\n",
                "\t[IdAluno] [int]  NULL,\n",
                "\t[DataInicial] [smalldatetime] NULL,\n",
                "\t[DataFinal] [smalldatetime] NULL,\n",
                " CONSTRAINT [PK_TbDiarioAluno_Auditoria] PRIMARY KEY CLUSTERED \n",
                "(\n",
                "\t[IdDiarioAlunoAuditoria] ASC\n",
                ")WITH (PAD_INDEX = OFF, STATISTICS_NORECOMPUTE = OFF, IGNORE_DUP_KEY = OFF, ALLOW_ROW_LOCKS = ON, ALLOW_PAGE_LOCKS = ON) ON [PRIMARY]\n",
                ") ON [PRIMARY]\n",
                "GO"
            ],
            "metadata": {
                "azdata_cell_guid": "dd4c8aa2-12da-491b-a213-4931fb5feaef"
            },
            "outputs": [
                {
                    "output_type": "display_data",
                    "data": {
                        "text/html": "Commands completed successfully."
                    },
                    "metadata": {}
                },
                {
                    "output_type": "display_data",
                    "data": {
                        "text/html": "Commands completed successfully."
                    },
                    "metadata": {}
                },
                {
                    "output_type": "display_data",
                    "data": {
                        "text/html": "Commands completed successfully."
                    },
                    "metadata": {}
                },
                {
                    "output_type": "display_data",
                    "data": {
                        "text/html": "Total execution time: 00:00:00.973"
                    },
                    "metadata": {}
                }
            ],
            "execution_count": 2
        },
        {
            "cell_type": "code",
            "source": [
                "SET ANSI_NULLS ON\n",
                "GO\n",
                "SET QUOTED_IDENTIFIER OFF\n",
                "GO\n",
                "\n",
                "--\n",
                "-- Activesoft Consultoria \n",
                "-- TRIGGER criada pelo Activesoft Service Pack em 21/01/2020 durante atualização para versão 1.065.xxx.\n",
                "--\n",
                "\n",
                "CREATE TRIGGER [dbo].[TgDiarioAluno_Auditoria] ON [dbo].[TbDiarioAluno]\n",
                "--ALTER TRIGGER [dbo].[TgDiarioAluno_Auditoria] ON [dbo].[TbDiarioAluno]\n",
                "FOR INSERT, UPDATE, DELETE\n",
                "AS\n",
                "BEGIN\n",
                "\tSET NOCOUNT ON\n",
                "\n",
                "\tIF ( SELECT COUNT(*) FROM INFORMATION_SCHEMA.COLUMNS c WHERE DATA_TYPE NOT IN ( 'text', 'image' ) AND TABLE_NAME = 'TbDiarioAluno' AND LEFT(COLUMN_NAME,1) <> '_' ) <> 5\n",
                "\tBEGIN\n",
                "\t\tROLLBACK TRANSACTION \n",
                "\t\tRAISERROR ('Dados não podem ser alterados (trigger de auditoria TgDiarioAluno_Auditoria inválida)', 16, 1) \n",
                "\t\tRETURN \n",
                "\tEND \n",
                "\n",
                "\t\n",
                "\tDECLARE @IdUsuario INTEGER\n",
                "\tIF APP_NAME() = 'SIGAWEB'\n",
                "\t\tSELECT\t@IdUsuario = IdUsuario\n",
                "\t\tFROM\tdbo.FnCriarTabelaTemporaria(HOST_NAME())\t\t\n",
                "\tELSE IF OBJECT_ID( 'tempdb..#TempTable' ) IS NOT NULL\n",
                "\t\tSELECT @IdUsuario = IdUsuario FROM #TempTable\n",
                "\n",
                "\tIF ( @IdUsuario IS NULL ) \n",
                "\tBEGIN\n",
                "\t\tROLLBACK TRANSACTION \n",
                "\t\tRAISERROR ('A auditoria não está funcionando corretamente. Reinicie o sistema. (TgDiarioAluno_Auditoria)', 16, 1)\n",
                "\t\tRETURN \n",
                "\tEND\n",
                "\n",
                "\t\n",
                "\tDECLARE @TipoOperacao CHAR(1) = 'I' -- Insert by default.\n",
                "\tIF EXISTS(SELECT * FROM DELETED)\n",
                "\tBEGIN\n",
                "\tSET @TipoOperacao = \n",
                "\t    CASE\n",
                "\t\tWHEN EXISTS(SELECT * FROM INSERTED) THEN 'U' ELSE 'D' \n",
                "\t    END\n",
                "\tEND\n",
                "\tELSE \n",
                "\tIF NOT EXISTS(SELECT * FROM INSERTED) RETURN; -- Nem updated nem inserted. Pode ter sido um \"failed delete\".\n",
                "\n",
                "\n",
                "\tIF ( @TipoOperacao = 'D' )\n",
                "\t\tINSERT\tTbDiarioAluno_Auditoria (\tDataHora,\tOperacao,\t\tIdUsuario,\tIdDiarioAluno,\tIdDiario,\tIdAluno,\tDataInicial,\tDataFinal )\n",
                "\t\tSELECT\t\t\t\t\t\t\t\tGETDATE(),\t@TipoOperacao,\t@IdUsuario, IdDiarioAluno,\tIdDiario,\tIdAluno,\tDataInicial,\tDataFinal\n",
                "\t\tFROM\tdeleted\n",
                "\tELSE\n",
                "\t\tINSERT\tTbDiarioAluno_Auditoria (\tDataHora,\tOperacao,\t\tIdUsuario,\tIdDiarioAluno,\tIdDiario,\tIdAluno,\tDataInicial,\tDataFinal )\n",
                "\t\tSELECT\t\t\t\t\t\t\t\tGETDATE(),\t@TipoOperacao,\t@IdUsuario, IdDiarioAluno,\tIdDiario,\tIdAluno,\tDataInicial,\tDataFinal\n",
                "\t\tFROM\tinserted\n",
                "END\n",
                ""
            ],
            "metadata": {
                "azdata_cell_guid": "c1cf1c82-f048-43cd-b1bc-5cddb1b20254"
            },
            "outputs": [
                {
                    "output_type": "display_data",
                    "data": {
                        "text/html": "Commands completed successfully."
                    },
                    "metadata": {}
                },
                {
                    "output_type": "display_data",
                    "data": {
                        "text/html": "Commands completed successfully."
                    },
                    "metadata": {}
                },
                {
                    "output_type": "display_data",
                    "data": {
                        "text/html": "Commands completed successfully."
                    },
                    "metadata": {}
                },
                {
                    "output_type": "display_data",
                    "data": {
                        "text/html": "Total execution time: 00:00:00.432"
                    },
                    "metadata": {}
                }
            ],
            "execution_count": 4
        },
        {
            "cell_type": "code",
            "source": [
                "DROP TRIGGER [dbo].[TgAudit_TbDiarioAlunoD]\n",
                "\n",
                "DROP TRIGGER [dbo].[TgAudit_TbDiarioAlunoI]\n",
                "\n",
                "DROP TRIGGER [dbo].[TgAudit_TbDiarioAlunoU]"
            ],
            "metadata": {
                "azdata_cell_guid": "6fecaa67-6d94-4c85-a195-ee80491c557a"
            },
            "outputs": [
                {
                    "output_type": "display_data",
                    "data": {
                        "text/html": "Commands completed successfully."
                    },
                    "metadata": {}
                },
                {
                    "output_type": "display_data",
                    "data": {
                        "text/html": "Total execution time: 00:00:00.228"
                    },
                    "metadata": {}
                }
            ],
            "execution_count": 5
        }
    ]
}