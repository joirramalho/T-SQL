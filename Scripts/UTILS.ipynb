{
    "metadata": {
        "kernelspec": {
            "name": "SQL",
            "display_name": "SQL",
            "language": "sql"
        },
        "language_info": {
            "name": "sql",
            "version": ""
        }
    },
    "nbformat_minor": 2,
    "nbformat": 4,
    "cells": [
        {
            "cell_type": "markdown",
            "source": [
                "### 50 Important Queries In SQL Server\n",
                "    https://www.c-sharpcorner.com/article/50-important-queries-in-sql-server/"
            ],
            "metadata": {
                "azdata_cell_guid": "a81941c9-bca2-4c9e-a9c1-46335349cd0a"
            }
        },
        {
            "cell_type": "code",
            "execution_count": null,
            "source": [
                "-- DROP - ALL - CONSTRAINT\n",
                "\n",
                "CREATE TABLE #Commands (Command VARCHAR(MAX))\n",
                "\n",
                "INSERT #Commands\n",
                "SELECT 'ALTER TABLE ' + QUOTENAME(RC.CONSTRAINT_SCHEMA)\n",
                "    + '.' + QUOTENAME(KCU1.TABLE_NAME)\n",
                "    + ' DROP CONSTRAINT ' + QUOTENAME(rc.CONSTRAINT_NAME) + '; '\n",
                "FROM INFORMATION_SCHEMA.REFERENTIAL_CONSTRAINTS AS RC\n",
                "\n",
                "INNER JOIN INFORMATION_SCHEMA.KEY_COLUMN_USAGE AS KCU1\n",
                "    ON KCU1.CONSTRAINT_CATALOG = RC.CONSTRAINT_CATALOG\n",
                "    AND KCU1.CONSTRAINT_SCHEMA = RC.CONSTRAINT_SCHEMA\n",
                "    AND KCU1.CONSTRAINT_NAME = RC.CONSTRAINT_NAME\n",
                "WHERE ORDINAL_POSITION=1\n",
                "\n",
                "--SELECT * FROM #Commands\n",
                "\n",
                "DECLARE @Command VARCHAR(MAX)\n",
                "DECLARE curCommand CURSOR FOR\n",
                "SELECT Command FROM #Commands\n",
                "\n",
                "OPEN curCommand\n",
                "\n",
                "FETCH NEXT FROM curCommand INTO @Command\n",
                "\n",
                "WHILE @@FETCH_STATUS =0\n",
                "BEGIN\n",
                "\n",
                "    EXEC(@Command)\n",
                "    FETCH NEXT FROM curCommand INTO @Command\n",
                "\n",
                "END\n",
                "\n",
                "CLOSE curCommand\n",
                "DEALLOCATE curCommand\n",
                "\n",
                "DROP TABLE #Commands"
            ],
            "outputs": [],
            "metadata": {
                "azdata_cell_guid": "7805d3ad-a278-41e3-921e-6b849cb22402",
                "tags": [
                    "hide_input"
                ]
            }
        },
        {
            "cell_type": "markdown",
            "source": [
                "https://www.tiagoneves.net/blog/procedures-nao-documentadas-sp_msforeachdb-e-sp_msforeachtable/"
            ],
            "metadata": {
                "azdata_cell_guid": "7bad0211-9e30-4d3d-b8f3-13c1c18edec0"
            }
        },
        {
            "cell_type": "code",
            "execution_count": null,
            "source": [
                "-- DISABLE  TRIGGER SELETIVO\n",
                "\n",
                "select 'alter table '+ (select Schema_name(schema_id) from sys.objects o where o.object_id = parent_id) + '.'+ object_name(parent_id) + ' DISABLE TRIGGER ' + Name as EnableScript\n",
                "from sys.triggers t \n",
                "where is_disabled = 0 And Name not like '%_IR'"
            ],
            "outputs": [],
            "metadata": {
                "azdata_cell_guid": "de10f741-066d-4b3b-a4c2-2bdca4403871",
                "tags": [
                    "hide_input"
                ]
            }
        },
        {
            "cell_type": "code",
            "execution_count": null,
            "source": [
                "-- Auto-increment -- Desativa - Insert - Reativar\n",
                "SET IDENTITY_INSERT masterTbl ON  --Desabilita o IDENTITY\n",
                "\n",
                "INSERT INTO masterTbl (id, name) VALUES (1, 'MNO') --Consegue inserir\n",
                "\n",
                "SET IDENTITY_INSERT masterTbl OFF  --Habilita o IDENTITY"
            ],
            "outputs": [],
            "metadata": {
                "azdata_cell_guid": "04274288-0746-4b89-b18e-c10de4b64cc9",
                "tags": [
                    "hide_input"
                ]
            }
        },
        {
            "cell_type": "code",
            "execution_count": null,
            "source": [
                "-- Reseed Identity\n",
                "DBCC CHECKIDENT(tblPerson, RESEED, 0)"
            ],
            "outputs": [],
            "metadata": {
                "azdata_cell_guid": "8000f3e3-9dff-4f2c-b311-6d63f308def0",
                "tags": [
                    "hide_input"
                ]
            }
        },
        {
            "cell_type": "code",
            "execution_count": null,
            "source": [
                "-- DROP - ALL - SCHEMA\n",
                "USE [Processo]\n",
                "GO\n",
                "\n",
                "/****** Object:  Schema [TCE\\81344546404]    Script Date: 16/06/2020 10:34:53 ******/\n",
                "--DROP SCHEMA [TCE\\81344546404]\n",
                "--GO\n",
                "\n",
                "\n",
                "select 'DROP SCHEMA ['+ s.name + ']' as schema_name, u.name as schema_owner\n",
                "from sys.schemas s\n",
                "inner join sys.sysusers u on u.uid = s.principal_id\n",
                "--WHERE LEFT( s.name, 4) = 'TCE\\' AND s.name NOT IN ('TCE\\67154832487', 'TCE\\08283413465', 'TCE\\63729741420', 'TCE\\usuários do dominio')\n",
                "order by s.name\n",
                "\n",
                "\n"
            ],
            "outputs": [],
            "metadata": {
                "azdata_cell_guid": "cddc486a-1ae5-4747-84b2-734a055d4a2e",
                "tags": [
                    "hide_input"
                ]
            }
        },
        {
            "cell_type": "code",
            "execution_count": null,
            "source": [
                "-- Compare stored procedures across multiple databases (SQL Server)\n",
                "    -- https://stackoverflow.com/questions/2133876/compare-stored-procedures-across-multiple-databases-sql-server\n",
                "\n",
                "    -- https://www.mssqltips.com/sqlservertip/2626/verify-sql-server-stored-procedures-are-the-same-on-multiple-servers/"
            ],
            "outputs": [],
            "metadata": {
                "azdata_cell_guid": "997e34b9-47fe-4ee4-acdf-b7762afa132a",
                "tags": []
            }
        },
        {
            "cell_type": "code",
            "execution_count": null,
            "source": [
                "GRANT Controle on Certificate\n",
                "\n",
                "GRANT CONTROL ON CERTIFICATE :: CertificadoCg0101_v3 TO uCG0101Coleta;\n",
                "GO\n",
                "---\n",
                "GRANT CONTROL ON SYMMETRIC KEY :: ChaveSimetricaCg0101 TO uCG0101;\n",
                "GO"
            ],
            "outputs": [],
            "metadata": {
                "azdata_cell_guid": "82d62c64-1bfb-45dd-8726-8a53b3aa4972",
                "tags": [
                    "hide_input"
                ]
            }
        },
        {
            "cell_type": "code",
            "execution_count": null,
            "source": [
                "-- Check who has access to symmetric keys\n",
                "\n",
                "--GRANT CONTROL  para certificado e chave simetrica\n",
                "\n",
                "-- grant CONTROL ON CERTIFICATE::InserirChave TO Inserirusuario\n",
                "-- grant CONTROL ON SYMMETRIC KEY::InserirChave TO Inserirusuario\n",
                "\n",
                "/*\n",
                "SELECT * FROM SYS.symmetric_keys\n",
                "\n",
                "\n",
                "\n",
                "select\n",
                "      [database] = db_name()\n",
                "    , u.name\n",
                "    , p.permission_name\n",
                "    , p.class\n",
                "    , p.class_desc\n",
                "    , ObjectNameForObjectORColumn\n",
                "        = object_name(p.major_id) \n",
                "    , objectNameActual\n",
                "        = case class_desc\n",
                "            when 'SYMMETRIC_KEYS' then sm.name              \n",
                "            when 'CERTIFICATE' then [cert].name             \n",
                "      end\n",
                "    , state_desc \n",
                "from sys.database_permissions  p \n",
                "inner join sys.database_principals\tu\t\ton p.grantee_principal_id = u.principal_id\n",
                "left outer join sys.symmetric_keys\tsm\t\ton p.major_id = sm.symmetric_key_id and p.class_desc = 'SYMMETRIC_KEYS'\n",
                "left outer join sys.certificates\t[cert]\ton p.major_id = [cert].[certificate_id] and p.class_desc = 'CERTIFICATE'\n",
                "where class_desc in('SYMMETRIC_KEYS', 'CERTIFICATE')\n",
                "order by u.name\n",
                "*/"
            ],
            "outputs": [],
            "metadata": {
                "azdata_cell_guid": "e8aa8ed5-5ee0-46b2-ba25-d2f98cba8583",
                "tags": [
                    "hide_input"
                ]
            }
        },
        {
            "cell_type": "markdown",
            "source": [
                "Check Fragmentation\n",
                "\n",
                "Failed allocate pages: FAIL_PAGE_ALLOCATION 1\n",
                "\n",
                "-- https://dba.stackexchange.com/questions/141236/failed-allocate-pages-fail-page-allocation-1\n",
                "\n",
                "Linux Logging Basics\n",
                "\n",
                "https://www.loggly.com/ultimate-guide/linux-logging-basics/"
            ],
            "metadata": {
                "azdata_cell_guid": "81adc941-25f1-4b1f-95f5-057daea7dada"
            }
        }
    ]
}