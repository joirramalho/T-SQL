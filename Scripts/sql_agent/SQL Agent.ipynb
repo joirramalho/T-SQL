{
    "metadata": {
        "kernelspec": {
            "name": "SQL",
            "display_name": "SQL",
            "language": "sql"
        },
        "language_info": {
            "name": "sql",
            "version": ""
        }
    },
    "nbformat_minor": 2,
    "nbformat": 4,
    "cells": [
        {
            "cell_type": "code",
            "source": [
                "-- next_scheduled_run_date \n",
                "    -- Histórico da atividade da execução dos jobs (Dirceu Resende)\n",
                "        -- Nessa visão, podemos identificar quando um job foi iniciado e quando será a próxima execução. A vantagem dessa view sobre a sysjobhistory, é que se o SQL Agent for reiniciado durante a execução de um job, não é gerado registro na sysjobhistory, mas pela sysjobactivity podemos identificar que um job estava em execução e não terminou.\n",
                "\n",
                "SELECT \n",
                "    A.job_id,\n",
                "    A.[name],\n",
                "    -- B.session_id,\n",
                "    B.run_requested_date,\n",
                "    B.run_requested_source,\n",
                "    -- B.queued_date,\n",
                "    B.start_execution_date,\n",
                "    B.last_executed_step_id,\n",
                "    B.last_executed_step_date,\n",
                "    B.stop_execution_date,\n",
                "    B.job_history_id,\n",
                "    B.next_scheduled_run_date\t\n",
                "FROM\n",
                "    msdb.dbo.sysjobs A\n",
                "    JOIN msdb.dbo.sysjobactivity B ON B.job_id = A.job_id\n",
                "WHERE NAME IN ('Job_stpLogMonitor')\n",
                "ORDER BY last_executed_step_date DESC"
            ],
            "metadata": {
                "azdata_cell_guid": "88644e19-3fcb-4fd6-9f64-aabc71515b63",
                "tags": []
            },
            "outputs": [],
            "execution_count": null
        },
        {
            "cell_type": "code",
            "source": [
                "-- EXEC msdb.dbo.sp_start_job 'Job_Kill_Session'\n",
                "\n",
                "EXEC msdb.dbo.sp_start_job 'Job_SimpleCheckDb'"
            ],
            "metadata": {
                "azdata_cell_guid": "ea01a3f9-991b-4d67-9a8e-5cd07f69b5d4",
                "tags": []
            },
            "outputs": [],
            "execution_count": null
        },
        {
            "cell_type": "code",
            "source": [
                "-- ALTERA PARA \"Go to the next step\" APÓS NOVO STEP\n",
                "\n",
                "USE [msdb]\n",
                "GO\n",
                "EXEC msdb.dbo.sp_update_jobstep @job_id=N'0c6eb40a-be74-4e36-83c3-0cca5e893463', @step_id=1 , \n",
                "\t\t@on_success_action=3\n",
                "GO"
            ],
            "metadata": {
                "azdata_cell_guid": "9871fe2f-3b3d-4c79-b0be-c864a6f773eb",
                "tags": []
            },
            "outputs": [],
            "execution_count": null
        },
        {
            "cell_type": "code",
            "source": [
                "-- sp_update_schedule\n",
                "\n",
                "EXEC msdb.dbo.sp_attach_schedule @job_id=N'4b664a7a-17dc-4c22-80dd-36202144b99b',@schedule_id=10\n",
                "GO\n",
                "USE [msdb]\n",
                "GO\n",
                "EXEC msdb.dbo.sp_update_schedule @schedule_id=10, \n",
                "\t\t@freq_type=8, \n",
                "\t\t@freq_interval=42, \n",
                "\t\t@freq_subday_type=8, \n",
                "\t\t@freq_recurrence_factor=1, \n",
                "\t\t@active_start_date=20200824, \n",
                "\t\t@active_start_time=80000, \n",
                "\t\t@active_end_time=225959\n",
                "GO"
            ],
            "metadata": {
                "azdata_cell_guid": "042667b5-bb63-4864-b451-91aece625061",
                "tags": []
            },
            "outputs": [],
            "execution_count": null
        },
        {
            "cell_type": "code",
            "source": [
                "-- sp_update_jobstep ENABLED\n",
                "\n",
                "EXEC msdb.dbo.sp_update_job @job_name='Job_stpTbLogMonitor_Db_Program_User_Connection', @enabled = 1 -- Disable/Enable"
            ],
            "metadata": {
                "azdata_cell_guid": "0b930e0c-ff73-4ffd-9ed2-877b73d528d4",
                "tags": []
            },
            "outputs": [],
            "execution_count": null
        },
        {
            "cell_type": "code",
            "source": [
                "-- sp_update_jobstep\n",
                "\n",
                "EXEC msdb.dbo.sp_update_jobstep @job_name=N'Job_LogMonitor', \n",
                "        @step_id=2, \n",
                "\t\t-- @on_success_action=3, -- Next Job in sucess\n",
                "\t    @step_name = N'step_LogMonitor_CPU',\n",
                "\t\t@command=N'SELECT 1'"
            ],
            "metadata": {
                "azdata_cell_guid": "333ed7fb-2b09-480b-b9ff-71b26728e0f8",
                "tags": []
            },
            "outputs": [],
            "execution_count": null
        }
    ]
}