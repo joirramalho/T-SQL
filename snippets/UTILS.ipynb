{
    "metadata": {
        "kernelspec": {
            "name": "SQL",
            "display_name": "SQL",
            "language": "sql"
        },
        "language_info": {
            "name": "sql",
            "version": ""
        }
    },
    "nbformat_minor": 2,
    "nbformat": 4,
    "cells": [
        {
            "cell_type": "markdown",
            "source": [
                "# Different Ways to Find SQL Server Object Dependencies\n",
                "\n",
                "https://www.mssqltips.com/sqlservertip/2999/different-ways-to-find-sql-server-object-dependencies/"
            ],
            "metadata": {
                "azdata_cell_guid": "bbefa91d-d677-4131-ae3b-017b35bbe902"
            }
        },
        {
            "cell_type": "code",
            "source": [
                "--List all access provisioned to a sql user or windows user/group directly -- CHECK\n",
                "\n",
                "SELECT \n",
                "    [UserName] = CASE princ.[type] \n",
                "                    WHEN 'S' THEN princ.[name]\n",
                "                    WHEN 'U' THEN ulogin.[name] COLLATE Latin1_General_CI_AI        END,\n",
                "    [UserType] = CASE princ.[type]\n",
                "                    WHEN 'S' THEN 'SQL User'\n",
                "                    WHEN 'U' THEN 'Windows User'        END,  \n",
                "    [DatabaseUserName] = princ.[name],       \n",
                "    [Role] = null,      \n",
                "    [PermissionType] = perm.[permission_name],       \n",
                "    [PermissionState] = perm.[state_desc],       \n",
                "    [ObjectType] = obj.type_desc,--perm.[class_desc],       \n",
                "    [ObjectName] = OBJECT_NAME(perm.major_id),\n",
                "    [ColumnName] = col.[name]\n",
                "FROM sys.database_principals princ  --database user\n",
                "LEFT JOIN        sys.login_token ulogin on princ.[sid] = ulogin.[sid]     --Login accounts\n",
                "LEFT JOIN        sys.database_permissions perm ON perm.[grantee_principal_id] = princ.[principal_id] --Permissions\n",
                "LEFT JOIN        sys.columns col ON col.[object_id] = perm.major_id AND col.[column_id] = perm.[minor_id] --Table columns\n",
                "LEFT JOIN        sys.objects obj ON perm.[major_id] = obj.[object_id]\n",
                "WHERE        princ.[type] in ('S','U')\n",
                "\n",
                "UNION\n",
                "SELECT  --List all access provisioned to a sql user or windows user/group through a database or application role\n",
                "    [UserName] = CASE memberprinc.[type] \n",
                "                    WHEN 'S' THEN memberprinc.[name]\n",
                "                    WHEN 'U' THEN ulogin.[name] COLLATE Latin1_General_CI_AI        END,\n",
                "    [UserType] = CASE memberprinc.[type]\n",
                "                    WHEN 'S' THEN 'SQL User'\n",
                "                    WHEN 'U' THEN 'Windows User'        END, \n",
                "    [DatabaseUserName] = memberprinc.[name],   \n",
                "    [Role] = roleprinc.[name],      \n",
                "    [PermissionType] = perm.[permission_name],       \n",
                "    [PermissionState] = perm.[state_desc],       \n",
                "    [ObjectType] = obj.type_desc,--perm.[class_desc],   \n",
                "    [ObjectName] = OBJECT_NAME(perm.major_id),\n",
                "    [ColumnName] = col.[name]\n",
                "FROM        sys.database_role_members members --Role/member associations\n",
                "JOIN        sys.database_principals roleprinc ON roleprinc.[principal_id] = members.[role_principal_id] --Roles\n",
                "JOIN        sys.database_principals memberprinc ON memberprinc.[principal_id] = members.[member_principal_id] --Role members (database users)\n",
                "LEFT JOIN        sys.login_token ulogin on memberprinc.[sid] = ulogin.[sid] --Login accounts\n",
                "LEFT JOIN        sys.database_permissions perm ON perm.[grantee_principal_id] = roleprinc.[principal_id] --Permissions\n",
                "LEFT JOIN        sys.columns col on col.[object_id] = perm.major_id AND col.[column_id] = perm.[minor_id] --Table columns \n",
                "LEFT JOIN        sys.objects obj ON perm.[major_id] = obj.[object_id]\n",
                "\n",
                "UNION\n",
                "SELECT  --List all access provisioned to the public role, which everyone gets by default\n",
                "    [UserName] = '{All Users}',\n",
                "    [UserType] = '{All Users}', \n",
                "    [DatabaseUserName] = '{All Users}',       \n",
                "    [Role] = roleprinc.[name],      \n",
                "    [PermissionType] = perm.[permission_name],       \n",
                "    [PermissionState] = perm.[state_desc],       \n",
                "    [ObjectType] = obj.type_desc,--perm.[class_desc],  \n",
                "    [ObjectName] = OBJECT_NAME(perm.major_id),\n",
                "    [ColumnName] = col.[name]\n",
                "FROM sys.database_principals roleprinc --Roles\n",
                "LEFT JOIN        sys.database_permissions perm ON perm.[grantee_principal_id] = roleprinc.[principal_id] --Role permissions\n",
                "LEFT JOIN        sys.columns col on col.[object_id] = perm.major_id AND col.[column_id] = perm.[minor_id] --Table columns\n",
                "JOIN sys.objects obj ON obj.[object_id] = perm.[major_id] --All objects   \n",
                "WHERE\n",
                "    roleprinc.[type] = 'R' AND --Only roles\n",
                "    roleprinc.[name] = 'public' AND --Only public role\n",
                "    obj.is_ms_shipped = 0 --Only objects of ours, not the MS objects\n",
                "ORDER BY        --    princ.[Name],\n",
                "    OBJECT_NAME(perm.major_id),\n",
                "    col.[name],\n",
                "    perm.[permission_name],\n",
                "    perm.[state_desc],\n",
                "    obj.type_desc--perm.[class_desc]\n",
                "\n"
            ],
            "metadata": {
                "azdata_cell_guid": "3b70819c-b6ba-402d-ba2b-328ca9dc6251"
            },
            "outputs": [],
            "execution_count": null
        },
        {
            "cell_type": "code",
            "source": [
                "SELECT *\n",
                "  FROM MyTable\n",
                "  WHERE [dateColumn] > '3/1/2009' AND [dateColumn] <= DATEADD(day,1,'3/31/2009') \n",
                "        --make it inclusive for a datetime type\n",
                "    AND DATEPART(hh,[dateColumn]) >= 6 AND DATEPART(hh,[dateColumn]) <= 22 \n",
                "        -- gets the hour of the day from the datetime\n",
                "    AND DATEPART(dw,[dateColumn]) >= 3 AND DATEPART(dw,[dateColumn]) <= 5 \n",
                "        -- gets the day of the week from the datetime"
            ],
            "metadata": {
                "azdata_cell_guid": "710f374b-8fd5-405b-af75-56c8636f2b54",
                "tags": []
            },
            "outputs": [],
            "execution_count": null
        },
        {
            "cell_type": "markdown",
            "source": [
                "### 50 Important Queries In SQL Server\n",
                "    https://www.c-sharpcorner.com/article/50-important-queries-in-sql-server/"
            ],
            "metadata": {
                "azdata_cell_guid": "a81941c9-bca2-4c9e-a9c1-46335349cd0a"
            }
        },
        {
            "cell_type": "markdown",
            "source": [
                "### A importância do nível de compatibilidade do banco de dados no SQL Server\n",
                "\n",
                "    https://www.sqlskills.com/blogs/glenn/database-compatibility-level-in-sql-server/"
            ],
            "metadata": {
                "azdata_cell_guid": "b519fea4-e166-4fa3-a4bf-49373f66e050"
            }
        },
        {
            "cell_type": "code",
            "source": [
                "-- Field in table\n",
                "\n",
                "SELECT t.name AS table_name, SCHEMA_NAME(schema_id) AS schema_name, c.name AS column_name\n",
                "FROM sys.tables AS t\n",
                "INNER JOIN sys.columns c ON t.OBJECT_ID = c.OBJECT_ID\n",
                "WHERE c.name LIKE '%Campo%'\n",
                "ORDER BY schema_name, table_name;"
            ],
            "metadata": {
                "azdata_cell_guid": "678dedbd-410f-4009-b275-0658d0c47720"
            },
            "outputs": [],
            "execution_count": null
        },
        {
            "cell_type": "code",
            "source": [
                "-- DROP - ALL - CONSTRAINT\n",
                "\n",
                "CREATE TABLE #Commands (Command VARCHAR(MAX))\n",
                "\n",
                "INSERT #Commands\n",
                "SELECT 'ALTER TABLE ' + QUOTENAME(RC.CONSTRAINT_SCHEMA)\n",
                "    + '.' + QUOTENAME(KCU1.TABLE_NAME)\n",
                "    + ' DROP CONSTRAINT ' + QUOTENAME(rc.CONSTRAINT_NAME) + '; '\n",
                "FROM INFORMATION_SCHEMA.REFERENTIAL_CONSTRAINTS AS RC\n",
                "\n",
                "INNER JOIN INFORMATION_SCHEMA.KEY_COLUMN_USAGE AS KCU1\n",
                "    ON KCU1.CONSTRAINT_CATALOG = RC.CONSTRAINT_CATALOG\n",
                "    AND KCU1.CONSTRAINT_SCHEMA = RC.CONSTRAINT_SCHEMA\n",
                "    AND KCU1.CONSTRAINT_NAME = RC.CONSTRAINT_NAME\n",
                "WHERE ORDINAL_POSITION=1\n",
                "\n",
                "--SELECT * FROM #Commands\n",
                "\n",
                "DECLARE @Command VARCHAR(MAX)\n",
                "DECLARE curCommand CURSOR FOR\n",
                "SELECT Command FROM #Commands\n",
                "\n",
                "OPEN curCommand\n",
                "\n",
                "FETCH NEXT FROM curCommand INTO @Command\n",
                "\n",
                "WHILE @@FETCH_STATUS =0\n",
                "BEGIN\n",
                "\n",
                "    EXEC(@Command)\n",
                "    FETCH NEXT FROM curCommand INTO @Command\n",
                "\n",
                "END\n",
                "\n",
                "CLOSE curCommand\n",
                "DEALLOCATE curCommand\n",
                "\n",
                "DROP TABLE #Commands"
            ],
            "metadata": {
                "azdata_cell_guid": "7805d3ad-a278-41e3-921e-6b849cb22402",
                "tags": [
                    "hide_input"
                ]
            },
            "outputs": [],
            "execution_count": null
        },
        {
            "cell_type": "markdown",
            "source": [
                "https://www.tiagoneves.net/blog/procedures-nao-documentadas-sp_msforeachdb-e-sp_msforeachtable/"
            ],
            "metadata": {
                "azdata_cell_guid": "7bad0211-9e30-4d3d-b8f3-13c1c18edec0"
            }
        },
        {
            "cell_type": "code",
            "source": [
                "-- TRUNCATE TABLE sp_MSForEachTable\n",
                "EXEC sp_MSForEachTable \"TRUNCATE TABLE ?\""
            ],
            "metadata": {
                "azdata_cell_guid": "276bd957-f00f-4393-af0a-19dcb5966235",
                "tags": [
                    "hide_input"
                ]
            },
            "outputs": [],
            "execution_count": null
        },
        {
            "cell_type": "code",
            "source": [
                "-- DISABLE ALL TRIGGER\n",
                "sp_msforeachtable 'ALTER TABLE ? DISABLE TRIGGER all'"
            ],
            "metadata": {
                "azdata_cell_guid": "494c2641-adfb-4837-8c6b-d7da5853ca73",
                "tags": [
                    "hide_input"
                ]
            },
            "outputs": [],
            "execution_count": null
        },
        {
            "cell_type": "code",
            "source": [
                "-- DISABLE  TRIGGER SELETIVO\n",
                "\n",
                "select 'alter table '+ (select Schema_name(schema_id) from sys.objects o where o.object_id = parent_id) + '.'+ object_name(parent_id) + ' DISABLE TRIGGER ' + Name as EnableScript\n",
                "from sys.triggers t \n",
                "where is_disabled = 0 And Name not like '%_IR'"
            ],
            "metadata": {
                "azdata_cell_guid": "de10f741-066d-4b3b-a4c2-2bdca4403871",
                "tags": [
                    "hide_input"
                ]
            },
            "outputs": [],
            "execution_count": null
        },
        {
            "cell_type": "code",
            "source": [
                "-- Cross-database dependencies\n",
                "SELECT  OBJECT_NAME (referencing_id) AS referencing_object, referenced_database_name, referenced_schema_name, referenced_entity_name\n",
                "FROM sys.sql_expression_dependencies\n",
                "WHERE referenced_database_name IS NOT NULL AND is_ambiguous = 0\n",
                "order by OBJECT_NAME (referencing_id)"
            ],
            "metadata": {
                "azdata_cell_guid": "5852f67e-17e7-41b3-8937-7fa1466e00b3",
                "tags": [
                    "hide_input"
                ]
            },
            "outputs": [],
            "execution_count": null
        },
        {
            "cell_type": "code",
            "source": [
                "-- Auto-increment -- Desativa - Insert - Reativar\n",
                "SET IDENTITY_INSERT masterTbl ON  --Desabilita o IDENTITY\n",
                "\n",
                "INSERT INTO masterTbl (id, name) VALUES (1, 'MNO') --Consegue inserir\n",
                "\n",
                "SET IDENTITY_INSERT masterTbl OFF  --Habilita o IDENTITY"
            ],
            "metadata": {
                "azdata_cell_guid": "04274288-0746-4b89-b18e-c10de4b64cc9",
                "tags": [
                    "hide_input"
                ]
            },
            "outputs": [],
            "execution_count": null
        },
        {
            "cell_type": "code",
            "source": [
                "-- Reseed Identity\n",
                "DBCC CHECKIDENT(tblPerson, RESEED, 0)"
            ],
            "metadata": {
                "azdata_cell_guid": "8000f3e3-9dff-4f2c-b311-6d63f308def0",
                "tags": [
                    "hide_input"
                ]
            },
            "outputs": [],
            "execution_count": null
        },
        {
            "cell_type": "code",
            "source": [
                "-- DROP - ALL - SCHEMA\n",
                "USE [Processo]\n",
                "GO\n",
                "\n",
                "/****** Object:  Schema [TCE\\81344546404]    Script Date: 16/06/2020 10:34:53 ******/\n",
                "--DROP SCHEMA [TCE\\81344546404]\n",
                "--GO\n",
                "\n",
                "\n",
                "select 'DROP SCHEMA ['+ s.name + ']' as schema_name, u.name as schema_owner\n",
                "from sys.schemas s\n",
                "inner join sys.sysusers u on u.uid = s.principal_id\n",
                "--WHERE LEFT( s.name, 4) = 'TCE\\' AND s.name NOT IN ('TCE\\67154832487', 'TCE\\08283413465', 'TCE\\63729741420', 'TCE\\usuários do dominio')\n",
                "order by s.name\n",
                "\n",
                "\n"
            ],
            "metadata": {
                "azdata_cell_guid": "cddc486a-1ae5-4747-84b2-734a055d4a2e",
                "tags": [
                    "hide_input"
                ]
            },
            "outputs": [],
            "execution_count": null
        },
        {
            "cell_type": "code",
            "source": [
                "-- Compare stored procedures across multiple databases (SQL Server)\n",
                "    -- https://stackoverflow.com/questions/2133876/compare-stored-procedures-across-multiple-databases-sql-server\n",
                "\n",
                "    -- https://www.mssqltips.com/sqlservertip/2626/verify-sql-server-stored-procedures-are-the-same-on-multiple-servers/"
            ],
            "metadata": {
                "azdata_cell_guid": "997e34b9-47fe-4ee4-acdf-b7762afa132a",
                "tags": []
            },
            "outputs": [],
            "execution_count": null
        },
        {
            "cell_type": "code",
            "source": [
                "GRANT Controle on Certificate\n",
                "\n",
                "GRANT CONTROL ON CERTIFICATE :: CertificadoCg0101_v3 TO uCG0101Coleta;\n",
                "GO\n",
                "---\n",
                "GRANT CONTROL ON SYMMETRIC KEY :: ChaveSimetricaCg0101 TO uCG0101;\n",
                "GO"
            ],
            "metadata": {
                "azdata_cell_guid": "82d62c64-1bfb-45dd-8726-8a53b3aa4972",
                "tags": [
                    "hide_input"
                ]
            },
            "outputs": [],
            "execution_count": null
        },
        {
            "cell_type": "code",
            "source": [
                "-- Check who has access to symmetric keys\n",
                "\n",
                "--GRANT CONTROL  para certificado e chave simetrica\n",
                "\n",
                "-- grant CONTROL ON CERTIFICATE::InserirChave TO Inserirusuario\n",
                "-- grant CONTROL ON SYMMETRIC KEY::InserirChave TO Inserirusuario\n",
                "\n",
                "/*\n",
                "SELECT * FROM SYS.symmetric_keys\n",
                "\n",
                "\n",
                "\n",
                "select\n",
                "      [database] = db_name()\n",
                "    , u.name\n",
                "    , p.permission_name\n",
                "    , p.class\n",
                "    , p.class_desc\n",
                "    , ObjectNameForObjectORColumn\n",
                "        = object_name(p.major_id) \n",
                "    , objectNameActual\n",
                "        = case class_desc\n",
                "            when 'SYMMETRIC_KEYS' then sm.name              \n",
                "            when 'CERTIFICATE' then [cert].name             \n",
                "      end\n",
                "    , state_desc \n",
                "from sys.database_permissions  p \n",
                "inner join sys.database_principals\tu\t\ton p.grantee_principal_id = u.principal_id\n",
                "left outer join sys.symmetric_keys\tsm\t\ton p.major_id = sm.symmetric_key_id and p.class_desc = 'SYMMETRIC_KEYS'\n",
                "left outer join sys.certificates\t[cert]\ton p.major_id = [cert].[certificate_id] and p.class_desc = 'CERTIFICATE'\n",
                "where class_desc in('SYMMETRIC_KEYS', 'CERTIFICATE')\n",
                "order by u.name\n",
                "*/"
            ],
            "metadata": {
                "azdata_cell_guid": "e8aa8ed5-5ee0-46b2-ba25-d2f98cba8583",
                "tags": [
                    "hide_input"
                ]
            },
            "outputs": [],
            "execution_count": null
        },
        {
            "cell_type": "markdown",
            "source": [
                "Check Fragmentation\n",
                "\n",
                "Failed allocate pages: FAIL_PAGE_ALLOCATION 1\n",
                "\n",
                "-- https://dba.stackexchange.com/questions/141236/failed-allocate-pages-fail-page-allocation-1\n",
                "\n",
                "Linux Logging Basics\n",
                "\n",
                "https://www.loggly.com/ultimate-guide/linux-logging-basics/"
            ],
            "metadata": {
                "azdata_cell_guid": "81adc941-25f1-4b1f-95f5-057daea7dada"
            }
        }
    ]
}