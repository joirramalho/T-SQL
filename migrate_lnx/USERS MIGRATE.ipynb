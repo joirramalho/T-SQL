{
    "metadata": {
        "kernelspec": {
            "name": "SQL",
            "display_name": "SQL",
            "language": "sql"
        },
        "language_info": {
            "name": "sql",
            "version": ""
        }
    },
    "nbformat_minor": 2,
    "nbformat": 4,
    "cells": [
        {
            "cell_type": "markdown",
            "source": [
                "# Move or copy SQL Logins by assigning roles and permissions\n",
                "\n",
                "https://www.sqlshack.com/move-or-copy-sql-logins-with-assigning-roles-and-permissions/"
            ],
            "metadata": {
                "azdata_cell_guid": "9593a5a6-d858-4599-8c3a-a497e2bcb577"
            }
        },
        {
            "cell_type": "code",
            "source": [
                "-- CREATE SQL Logins\n",
                "\n",
                "SELECT 'IF (SUSER_ID('+QUOTENAME(SP.name,'''')+') IS NULL) BEGIN CREATE LOGIN ' +QUOTENAME(SP.name)+\n",
                "               CASE \n",
                "                    WHEN SP.type_desc = 'SQL_LOGIN' THEN ' WITH PASSWORD = ' +CONVERT(NVARCHAR(MAX),SL.password_hash,1)+ ' HASHED, CHECK_EXPIRATION = ' \n",
                "                        + CASE WHEN SL.is_expiration_checked = 1 THEN 'ON' ELSE 'OFF' END +', CHECK_POLICY = ' +CASE WHEN SL.is_policy_checked = 1 THEN 'ON,' ELSE 'OFF,' END\n",
                "                    ELSE ' FROM WINDOWS WITH'\n",
                "                END \n",
                "       +' DEFAULT_DATABASE=[' +SP.default_database_name+ '], DEFAULT_LANGUAGE=[' +SP.default_language_name+ '] END;' COLLATE SQL_Latin1_General_CP1_CI_AS AS [-- Logins To Be Created --]\n",
                "FROM sys.server_principals AS SP \n",
                "LEFT JOIN sys.sql_logins AS SL ON SP.principal_id = SL.principal_id\n",
                "WHERE SP.type IN ('S','G','U')\n",
                "        AND SP.name NOT LIKE '##%##'\n",
                "        AND SP.name NOT LIKE 'NT AUTHORITY%'\n",
                "        AND SP.name NOT LIKE 'NT SERVICE%'\n",
                "        AND SP.name <> ('sa')\n",
                "        AND SP.name <> 'distributor_admin'\n",
                "\n",
                "        -- SELECT 'IF (SUSER_ID(' + QUOTENAME( SP.name,'''') + ') IS NULL) BEGIN ALTER LOGIN ' + QUOTENAME( SP.name ) +\n",
                "--                CASE \n",
                "--                     WHEN SP.type_desc = 'SQL_LOGIN' THEN ' WITH PASSWORD = ' + CONVERT(NVARCHAR(MAX),SL.password_hash,1) + ' HASHED, CHECK_EXPIRATION = ' + \n",
                "--                         CASE WHEN SL.is_expiration_checked = 1  THEN 'ON'   ELSE 'OFF'  END + ', CHECK_POLICY = ' + \n",
                "--                         CASE WHEN SL.is_policy_checked = 1      THEN 'ON,'  ELSE 'OFF,' END\n",
                "--                     ELSE ' FROM WINDOWS WITH'\n",
                "--                 END \n",
                "--        +' DEFAULT_DATABASE=[' + SP.default_database_name+ '], DEFAULT_LANGUAGE=[' + SP.default_language_name + '] END;' COLLATE SQL_Latin1_General_CP1_CI_AS AS [-- Logins To Be Created --]"
            ],
            "metadata": {
                "azdata_cell_guid": "74d915e1-0352-4eb8-9cab-78a7d790e37a",
                "tags": []
            },
            "outputs": [],
            "execution_count": null
        },
        {
            "cell_type": "code",
            "source": [
                "-- Assign SERVER ROLE to the login\n",
                "\n",
                "SELECT 'EXEC master..sp_addsrvrolemember @loginame = N''' + SL.name + ''', @rolename = N''' + SR.name + ''';\n",
                "' AS [-- Roles To Be Assigned --]\n",
                "FROM master.sys.server_role_members SRM\n",
                "INNER JOIN master.sys.server_principals SR ON SR.principal_id = SRM.role_principal_id\n",
                "    JOIN master.sys.server_principals SL ON SL.principal_id = SRM.member_principal_id\n",
                "WHERE SL.type IN ('S','G','U')\n",
                "        AND SL.name NOT LIKE '##%##'\n",
                "        AND SL.name NOT LIKE 'NT AUTHORITY%'\n",
                "        AND SL.name NOT LIKE 'NT SERVICE%'\n",
                "        AND SL.name <> ('sa')\n",
                "        AND SL.name <> 'distributor_admin'\n",
                "        AND SL.name NOT LIKE '%Administrator%';"
            ],
            "metadata": {
                "azdata_cell_guid": "d7e44411-9de2-4d24-87ad-31a04885d2dd"
            },
            "outputs": [],
            "execution_count": null
        },
        {
            "cell_type": "code",
            "source": [
                "-- Create USER and permissions on DATABASE LEVEL\n",
                "\n",
                "SELECT 'USE '+ DB_NAME()+'; CREATE USER ['+dp.name+'] FOR LOGIN ['+dp.name+'];'+ \n",
                "        'ALTER USER ['+dp.name+'] WITH DEFAULT_SCHEMA=['+dp.default_schema_name+'];' AS [-- Logins To Be Created --]\n",
                "FROM sys.database_principals AS dp\n",
                "INNER JOIN sys.server_principals sp ON dp.sid = sp.sid\n",
                "WHERE (dp.type in ('S','G','U'))\n",
                "        AND dp.name NOT LIKE '##%##'\n",
                "        AND dp.name NOT LIKE 'NT AUTHORITY%'\n",
                "        AND dp.name NOT LIKE 'NT SERVICE%'\n",
                "        AND dp.name <> ('sa')\n",
                "        AND dp.default_schema_name IS NOT NULL\n",
                "        AND dp.name <> 'distributor_admin'\n",
                "        AND dp.principal_id > 4"
            ],
            "metadata": {
                "azdata_cell_guid": "af755abc-0f1c-4229-a72c-44cb85f071dd"
            },
            "outputs": [],
            "execution_count": null
        },
        {
            "cell_type": "code",
            "source": [
                "-- The query needs to be executed in each database using a loop. It returns user with individual permission in a separate statement.\n",
                "\n",
                "USE CRM_173626\n",
                "\n",
                "SELECT 'USE '+ DB_NAME()+'; '+CASE WHEN dp.state <> 'W' THEN dp.state_desc ELSE 'GRANT' END +' ' + \n",
                "        dp.permission_name + ' TO ' + QUOTENAME(dpg.name) COLLATE database_default + \n",
                "        CASE WHEN dp.state <> 'W' THEN '' ELSE ' WITH GRANT OPTION' END +';' AS [-- Permission To Be Assign to the User --]\n",
                "FROM    sys.database_permissions AS dp\n",
                "INNER   JOIN sys.database_principals AS dpg ON dp.grantee_principal_id = dpg.principal_id\n",
                "WHERE   dp.major_id = 0 AND dpg.principal_id > 4\n",
                "        AND (dpg.type in ('S','G','U'))\n",
                "        AND dpg.name NOT LIKE '##%##'\n",
                "        AND dpg.name NOT LIKE 'NT AUTHORITY%'\n",
                "        AND dpg.name NOT LIKE 'NT SERVICE%'\n",
                "        AND dpg.name <> ('sa')\n",
                "        AND dpg.default_schema_name IS NOT NULL\n",
                "        AND dpg.name <> 'distributor_admin'\n",
                "        AND dpg.principal_id > 4\n",
                "ORDER BY dpg.name"
            ],
            "metadata": {
                "azdata_cell_guid": "92c11a35-0788-4d48-b714-5919f745e861"
            },
            "outputs": [],
            "execution_count": null
        }
    ]
}