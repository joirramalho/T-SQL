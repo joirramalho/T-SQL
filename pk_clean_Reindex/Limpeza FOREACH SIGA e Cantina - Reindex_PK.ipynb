{
    "metadata": {
        "kernelspec": {
            "name": "SQL",
            "display_name": "SQL",
            "language": "sql"
        },
        "language_info": {
            "name": "sql",
            "version": ""
        }
    },
    "nbformat_minor": 2,
    "nbformat": 4,
    "cells": [
        {
            "cell_type": "code",
            "source": [
                "USE dbSigaSalesianoSaoJose_Arquivo05\n",
                "\n",
                "   SELECT file_id, name as [logical_file_name],physical_name from sys.database_files\n",
                "\n",
                "   DBCC SHRINKFILE (dbSigaSalesianoSaoJose_Arquivo05_log , 0, TRUNCATEONLY) "
            ],
            "metadata": {
                "azdata_cell_guid": "04535f67-9580-4d3b-b8db-90041112eabb"
            },
            "outputs": [],
            "execution_count": null
        },
        {
            "cell_type": "code",
            "source": [
                "         DECLARE @BatchSize INT = 100000       \n",
                "        \n",
                "        WHILE 1 = 1\n",
                "        BEGIN\n",
                "            DELETE TOP (@BatchSize)\n",
                "            FROM  dbSigaNeves_Arquivo05.dbo.TbFaseNotaAluno_Auditoria  \n",
                "            WHERE year(DataHora) < ( year( getdate() ) - 2 )\n",
                "        \n",
                "            IF @@ROWCOUNT < @BatchSize BREAK\n",
                "        END"
            ],
            "metadata": {
                "azdata_cell_guid": "8bf96401-ee3d-4212-a96a-7d4885a6a728"
            },
            "outputs": [],
            "execution_count": null
        },
        {
            "cell_type": "code",
            "source": [
                "EXEC master.dbo.sp_foreachdb N'\n",
                "        USE [?]\n",
                "\n",
                "        DELETE  FROM ?.dbo.TbFaseNotaAluno_Auditoria  WHERE year(DataHora) < ( year( getdate() ) - 2 )\n",
                "\n",
                "        DELETE  FROM ?.dbo.TbSituacaoAlunoDisciplina_Auditoria  WHERE year(DataHora) < ( year( getdate() ) - 2 )\n",
                "\n",
                "        DELETE  FROM ?.dbo.TbMetaSituacaoAlunoDisciplina_Auditoria  WHERE year(DataHora) < ( year( getdate() ) - 2 )\n",
                "\n",
                "        DELETE  FROM ?.dbo.TbAuditoria  WHERE Tabela IN (''Sistema_Login'',''Sistema_LogOut'',''TbDiarioFrequencia'',''TbDiarioAula'',''TbDiario'',''TbFaseNota'',''TbDiarioAluno'') AND year(DataHora) < ( year( getdate() ) - 2 )\n",
                "\n",
                "        DELETE  FROM ?.dbo.TbAlunoTurmaProcedimentoMatriculaHistorico  WHERE year(DataAtualizacao) < ( year( getdate() ) - 2 )\n",
                "\n",
                "        DELETE  FROM ?.dbo.TbLogWeb  WHERE year(DataHora) < ( year( getdate() ) - 2 )\n",
                "\n",
                "        DELETE  FROM ?.dbo.TbLogMobile  WHERE year(DataHoraLogin) < ( year( getdate() ) - 2 )\n",
                "\n",
                "        DELETE  FROM ?.dbo.TbMensagemCaixaSaida  WHERE year(DataHoraInsercao) < ( year( getdate() ) - 2 )\n",
                "\n",
                "    SELECT file_id, name as [logical_file_name],physical_name from sys.database_files\n",
                "\n",
                "           IF CHARINDEX( ''dbSiga'', ''?'') > 0\n",
                "       DBCC SHRINKFILE (dbSiga_Log , 0, TRUNCATEONLY) \n",
                "   \n",
                "   IF CHARINDEX( ''dbSigaAuxilNatal'', ''?'') > 0\n",
                "       DBCC SHRINKFILE (teste2_Log , 0, TRUNCATEONLY) \n",
                "\n",
                "   ELSE IF ( CHARINDEX( ''dbActiveBib'', ''?'') > 0 ) OR ( CHARINDEX( ''dbBib'', ''?'') > 0 )\n",
                "       DBCC SHRINKFILE (dbSigaBiblioteca_Log , 0, TRUNCATEONLY) \n",
                "   \n",
                "   ELSE IF ( CHARINDEX( ''dbCantina'', ''?'') > 0 ) OR ( CHARINDEX( ''dbActive'', ''?'') > 0 )\n",
                "       DBCC SHRINKFILE (dbCantinaActive_log , 0, TRUNCATEONLY) \n",
                "   \n",
                "   ELSE IF ( CHARINDEX( ''dbCrmActivesoft'', ''?'') > 0 ) \n",
                "       DBCC SHRINKFILE (dbActiveCRM2_Log , 0, TRUNCATEONLY) \n",
                "   \n",
                "   ELSE IF CHARINDEX( ''CRM_'', ''?'') > 0\n",
                "       DBCC SHRINKFILE (dbSiga_Log , 0, TRUNCATEONLY) \n",
                "'\n",
                ",@print_command_only = 0 -- NAO Exec direto\n",
                ",@print_dbname=0\n",
                ",@state_desc = N'ONLINE'\n",
                ",@user_only = 1\n",
                ",@suppress_quotename=1\n",
                ",@name_pattern='CRM_dbCrm233704v3';\n",
                "-- ,@database_list = 'dbSigaLis'"
            ],
            "metadata": {
                "azdata_cell_guid": "26fe23de-91ff-490c-bcc2-b01df86fbd8d"
            },
            "outputs": [],
            "execution_count": null
        },
        {
            "cell_type": "code",
            "source": [
                "-- ROLLBACK\n",
                "-- \n",
                "COMMIT"
            ],
            "metadata": {
                "azdata_cell_guid": "d2904d7d-830e-4913-b2a3-9590420cabda"
            },
            "outputs": [],
            "execution_count": null
        },
        {
            "cell_type": "code",
            "source": [
                "-- SHRINKDATABASE sp_foreachdb  (Joir Ramalho v1.00 11Jan21)\n",
                "\n",
                "EXEC master.dbo.sp_foreachdb N'\n",
                "    CALL BACKUPbanco.bat full ?\n",
                "'\n",
                ",@print_command_only = 1 -- Obrigatório Gerar script\n",
                ",@print_dbname=0\n",
                ",@state_desc = N'ONLINE'\n",
                ",@user_only = 1\n",
                ",@suppress_quotename=1\n",
                ",@name_pattern='dbSigaNEVES_ARQ';\n",
                "-- ,@database_list = 'dbSigaAprendiz'  --  -- dbSigaEscolaNovaCruz, dbSigaDom, dbSigaNSAparecida, dbSigaDesafio, dbSigaDomMarcolino, dbSigaGandhi, dbSigaCristoReiMaceio, dbSigaSantAna,dbSigaCarochinha,dbSigaCoesi"
            ],
            "metadata": {
                "azdata_cell_guid": "c2c2ba47-be3c-40cd-8ebb-e823b97d93a3"
            },
            "outputs": [],
            "execution_count": null
        },
        {
            "cell_type": "markdown",
            "source": [
                "## Limpeza Cantina"
            ],
            "metadata": {
                "azdata_cell_guid": "4e730b54-e5ee-46d9-93fc-7d7bdd211d7b"
            }
        },
        {
            "cell_type": "code",
            "source": [
                "-- Script SELECT\n",
                "EXEC master.dbo.sp_foreachdb N'\n",
                "    USE [?]\n",
                "\n",
                "    SELECT Tabela, year( DataHora ), count(*)\tFROM ?.dbo.TbAuditoria  WHERE   Tabela IN (''TbCaixaLancamento'',''TbCaixaMovimentacao'',''TbConta'',''TbLancamentoConsumo'',''TbLancamentoConsumoItem'',''TbLancamentoCredito'',''TbProdutoEstoque'') group by Tabela, year( DataHora )        order by year( DataHora ) DESC\n",
                "'\n",
                ",@print_command_only = 0\n",
                ",@print_dbname=0\n",
                ",@state_desc = N'ONLINE'\n",
                ",@user_only = 1\n",
                ",@suppress_quotename=1\n",
                ",@name_pattern='dbActiveCantina';\n",
                "-- ,@database_list = 'dbCantina';"
            ],
            "metadata": {
                "azdata_cell_guid": "35b8a5ee-6fa8-4118-9fb2-5d17663e1802"
            },
            "outputs": [],
            "execution_count": null
        },
        {
            "cell_type": "code",
            "source": [
                "-- Script INSERT INTO\n",
                "EXEC master.dbo.sp_foreachdb N'\n",
                "    ALTER DATABASE [?] SET RECOVERY SIMPLE WITH NO_WAIT\n",
                "\n",
                "    BEGIN TRAN\n",
                "        SELECT  * INTO VPS1_20210123_Dados2018.dbo.?_TbAuditoria FROM ?.dbo.TbAuditoria WHERE Tabela IN (''TbCaixaLancamento'',''TbCaixaMovimentacao'',''TbConta'',''TbLancamentoConsumo'',''TbLancamentoConsumoItem'',''TbLancamentoCredito'',''TbProdutoEstoque'') AND year(DataHora) < ( year( getdate() ) - 1 )\n",
                "\n",
                "       DELETE  FROM ?.dbo.TbAuditoria  WHERE Tabela IN (''TbCaixaLancamento'',''TbCaixaMovimentacao'',''TbConta'',''TbLancamentoConsumo'',''TbLancamentoConsumoItem'',''TbLancamentoCredito'',''TbProdutoEstoque'') AND year(DataHora) < ( year( getdate() ) - 1 )\n",
                "    COMMIT\n",
                "\n",
                "    ALTER DATABASE [?] SET RECOVERY FULL WITH NO_WAIT\n",
                "'\n",
                ",@print_command_only=0\n",
                ",@print_dbname=0\n",
                ",@state_desc = N'ONLINE'\n",
                ",@user_only = 1\n",
                ",@suppress_quotename=1\n",
                ",@name_pattern='dbActiveCantina';\n",
                "--,@database_list = 'dbActiveCantinaCIEC';"
            ],
            "metadata": {
                "azdata_cell_guid": "74b88cc8-7b07-4fd5-9785-abd6c7050bfb"
            },
            "outputs": [],
            "execution_count": null
        }
    ]
}